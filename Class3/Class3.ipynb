{
 "cells": [
  {
   "cell_type": "code",
   "execution_count": 1,
   "metadata": {},
   "outputs": [
    {
     "name": "stdout",
     "output_type": "stream",
     "text": [
      "['cat', 'bat', 'rat', 'gat']\n",
      "['cat', 'bat', 'rat', 'gat']\n"
     ]
    }
   ],
   "source": [
    "list1 = ['cat', 'bat', 'rat']\n",
    "list2 = list1\n",
    "list2.append('gat')\n",
    "print(list1)\n",
    "print(list2)"
   ]
  },
  {
   "cell_type": "code",
   "execution_count": 6,
   "metadata": {},
   "outputs": [
    {
     "name": "stdout",
     "output_type": "stream",
     "text": [
      "['cat', 'bat']\n",
      "['cat', 'bat', 'rat']\n",
      "['cat', 'bat', 'rat', 'cat2']\n",
      "['cat', 'bat']\n",
      "['cat', 'bat', 'bat2']\n"
     ]
    }
   ],
   "source": [
    "spam = ['cat', 'bat', 'rat']\n",
    "cheese = spam\n",
    "spam = ['cat', 'bat']\n",
    "print(spam)\n",
    "print(cheese)\n",
    "cheese.append('cat2')\n",
    "print(cheese)\n",
    "print(spam)\n",
    "spam.append('bat2')\n",
    "print(spam)"
   ]
  },
  {
   "cell_type": "code",
   "execution_count": 9,
   "metadata": {},
   "outputs": [
    {
     "data": {
      "text/plain": [
       "dict_items([('color', 'red'), ('age', 42)])"
      ]
     },
     "execution_count": 9,
     "metadata": {},
     "output_type": "execute_result"
    }
   ],
   "source": [
    "spam = {'color':'red', 'age':42}\n",
    "# dictionary has 3 methods: .values, .keys, .items\n",
    "spam.values()\n",
    "spam.keys()\n",
    "spam.items()"
   ]
  },
  {
   "cell_type": "code",
   "execution_count": 10,
   "metadata": {},
   "outputs": [
    {
     "name": "stdout",
     "output_type": "stream",
     "text": [
      "red\n",
      "42\n"
     ]
    }
   ],
   "source": [
    "for v in spam.values():\n",
    "    print(v)"
   ]
  },
  {
   "cell_type": "code",
   "execution_count": 11,
   "metadata": {},
   "outputs": [
    {
     "name": "stdout",
     "output_type": "stream",
     "text": [
      "color\n",
      "age\n"
     ]
    }
   ],
   "source": [
    "for keys in spam.keys():\n",
    "    print(keys)"
   ]
  },
  {
   "cell_type": "code",
   "execution_count": 13,
   "metadata": {},
   "outputs": [
    {
     "name": "stdout",
     "output_type": "stream",
     "text": [
      "color red\n",
      "age 42\n"
     ]
    }
   ],
   "source": [
    "for k, v in spam.items():\n",
    "    print(str(k)+' '+ str(v))"
   ]
  },
  {
   "cell_type": "code",
   "execution_count": 15,
   "metadata": {},
   "outputs": [
    {
     "data": {
      "text/plain": [
       "['color', 'age']"
      ]
     },
     "execution_count": 15,
     "metadata": {},
     "output_type": "execute_result"
    }
   ],
   "source": [
    "list(spam.items())\n",
    "list(spam.keys())"
   ]
  },
  {
   "cell_type": "code",
   "execution_count": 16,
   "metadata": {},
   "outputs": [
    {
     "data": {
      "text/plain": [
       "True"
      ]
     },
     "execution_count": 16,
     "metadata": {},
     "output_type": "execute_result"
    }
   ],
   "source": [
    "spam = {'color':'red', 'age':42}\n",
    "'color' in spam.keys()"
   ]
  },
  {
   "cell_type": "code",
   "execution_count": 23,
   "metadata": {},
   "outputs": [
    {
     "name": "stdout",
     "output_type": "stream",
     "text": [
      "I am bringing 2 cups\n",
      "I am bringing 2 cups\n",
      "I am bringing 0 eggs\n"
     ]
    }
   ],
   "source": [
    "picnicItems = {'apples':5, 'cups':2}\n",
    "print(\"I am bringing \"+str(picnicItems.get('cups', 0))+\" cups\")\n",
    "print(\"I am bringing \"+str(picnicItems['cups'])+\" cups\")\n",
    "\n",
    "# print(\"I am bringing \"+str(picnicItems['eggs']))\n",
    "print(\"I am bringing \"+str(picnicItems.get('eggs', 0))+\" eggs\")\n"
   ]
  },
  {
   "cell_type": "code",
   "execution_count": 25,
   "metadata": {},
   "outputs": [
    {
     "data": {
      "text/plain": [
       "{'name': 'Pooka', 'age': 5, 'color': 'black'}"
      ]
     },
     "execution_count": 25,
     "metadata": {},
     "output_type": "execute_result"
    }
   ],
   "source": [
    "spam = {'name':'Pooka', 'age':5}\n",
    "if 'color' not in spam.keys():\n",
    "    spam['color'] = 'black'\n",
    "spam"
   ]
  },
  {
   "cell_type": "code",
   "execution_count": 28,
   "metadata": {},
   "outputs": [
    {
     "data": {
      "text/plain": [
       "{'name': 'Pooka', 'age': 5, 'color': 'black'}"
      ]
     },
     "execution_count": 28,
     "metadata": {},
     "output_type": "execute_result"
    }
   ],
   "source": [
    "spam = {'name':'Pooka', 'age':5}\n",
    "spam.setdefault('color', 'black') # Works only once\n",
    "spam.setdefault('color', 'white')\n",
    "spam"
   ]
  },
  {
   "cell_type": "code",
   "execution_count": 29,
   "metadata": {},
   "outputs": [
    {
     "data": {
      "text/plain": [
       "{'I': 1,\n",
       " 't': 1,\n",
       " ' ': 4,\n",
       " 'w': 1,\n",
       " 'a': 3,\n",
       " 's': 1,\n",
       " 'n': 1,\n",
       " 'i': 1,\n",
       " 'c': 1,\n",
       " 'e': 1,\n",
       " 'd': 1,\n",
       " 'y': 1}"
      ]
     },
     "execution_count": 29,
     "metadata": {},
     "output_type": "execute_result"
    }
   ],
   "source": [
    "msg = 'It was a nice day'\n",
    "count = {}\n",
    "\n",
    "for char in msg:\n",
    "    count.setdefault(char, 0)\n",
    "    count[char] = count[char]+1\n",
    "\n",
    "count"
   ]
  },
  {
   "cell_type": "code",
   "execution_count": 34,
   "metadata": {},
   "outputs": [
    {
     "data": {
      "text/plain": [
       "('a',)"
      ]
     },
     "execution_count": 34,
     "metadata": {},
     "output_type": "execute_result"
    }
   ],
   "source": [
    "t = ('a', 'b', 'c', 'd')\n",
    "t\n",
    "s = ('a',)\n",
    "s"
   ]
  },
  {
   "cell_type": "code",
   "execution_count": 41,
   "metadata": {},
   "outputs": [
    {
     "data": {
      "text/plain": [
       "[('name', 'RUET'), ('age', 5)]"
      ]
     },
     "execution_count": 41,
     "metadata": {},
     "output_type": "execute_result"
    }
   ],
   "source": [
    "spam = {'name':'Pooka', 'age':5}\n",
    "new_list = list(spam.items())\n",
    "new_list\n",
    "k, v = new_list[0]\n",
    "k\n",
    "v\n",
    "new_list[0] = ('name', 'RUET')\n",
    "new_list"
   ]
  },
  {
   "cell_type": "code",
   "execution_count": 50,
   "metadata": {},
   "outputs": [
    {
     "data": {
      "text/plain": [
       "6"
      ]
     },
     "execution_count": 50,
     "metadata": {},
     "output_type": "execute_result"
    }
   ],
   "source": [
    "helloFile = open('C:\\\\Users\\\\nahin\\\\Desktop\\\\Thesis_Py\\\\sonnet29.txt')\n",
    "helloFile = open('sonnet29.txt')\n",
    "# helloFileContent = helloFile.read()\n",
    "helloFileContent = helloFile.readlines()\n",
    "len(helloFileContent)\n",
    " "
   ]
  },
  {
   "cell_type": "code",
   "execution_count": 56,
   "metadata": {},
   "outputs": [
    {
     "name": "stdout",
     "output_type": "stream",
     "text": [
      "I study in RUET\n",
      "I study in RUET\n",
      "I study in RUET\n",
      "I study in RUET\n",
      "I study in RUET\n",
      "I study in RUET\n"
     ]
    }
   ],
   "source": [
    "helloFile = open('sonnet29.txt')\n",
    "helloFileContent = helloFile.readlines()\n",
    "\n",
    "for line in helloFileContent:\n",
    "    if 'RUET' in line:\n",
    "        print(line.rstrip())"
   ]
  },
  {
   "cell_type": "code",
   "execution_count": 60,
   "metadata": {},
   "outputs": [],
   "source": [
    "baconFile = open('bacon2.txt', 'w')\n",
    "baconFile.write('I study in RUET')\n",
    "baconFile.close()"
   ]
  },
  {
   "cell_type": "code",
   "execution_count": 64,
   "metadata": {},
   "outputs": [
    {
     "data": {
      "text/plain": [
       "'2015'"
      ]
     },
     "execution_count": 64,
     "metadata": {},
     "output_type": "execute_result"
    }
   ],
   "source": [
    "import csv\n",
    "exampleFile = open('new_csv.csv')\n",
    "exampleReader = csv.reader(exampleFile)\n",
    "exampleReaderContent = list(exampleReader)\n",
    "exampleReaderContent[0][0]"
   ]
  },
  {
   "cell_type": "code",
   "execution_count": 66,
   "metadata": {},
   "outputs": [],
   "source": [
    "outputFile = open('output.csv', 'w', newline='')\n",
    "outputWriter = csv.writer(outputFile)\n",
    "outputWriter.writerow(['RUET', 'KUET', 'CUET', 'BUET'])\n",
    "outputFile.close()"
   ]
  },
  {
   "cell_type": "code",
   "execution_count": 72,
   "metadata": {},
   "outputs": [
    {
     "name": "stdout",
     "output_type": "stream",
     "text": [
      "So far 1\n",
      "So far 2\n",
      "So far 3\n",
      "So far 4\n"
     ]
    }
   ],
   "source": [
    "class PartyAnimal:\n",
    "    x = 0\n",
    "\n",
    "    def party(self):\n",
    "        self.x = self.x + 1\n",
    "        print('So far', self.x)\n",
    "\n",
    "an = PartyAnimal()\n",
    "an.party()\n",
    "an.party()\n",
    "an.party()\n",
    "PartyAnimal.party(an)"
   ]
  },
  {
   "cell_type": "code",
   "execution_count": 76,
   "metadata": {},
   "outputs": [
    {
     "data": {
      "text/plain": [
       "method"
      ]
     },
     "execution_count": 76,
     "metadata": {},
     "output_type": "execute_result"
    }
   ],
   "source": [
    "type(an)\n",
    "dir(an)\n",
    "type(an.x)\n",
    "type(an.party)"
   ]
  },
  {
   "cell_type": "code",
   "execution_count": 78,
   "metadata": {},
   "outputs": [
    {
     "name": "stdout",
     "output_type": "stream",
     "text": [
      "I am contructed\n",
      "I am decontructed\n",
      "So far 1\n",
      "So far 2\n",
      "I am decontructed\n"
     ]
    }
   ],
   "source": [
    "class PartyAnimal:\n",
    "    x = 0\n",
    "\n",
    "    def __init__(self):\n",
    "        print('I am contructed')\n",
    "\n",
    "    def party(self):\n",
    "        self.x = self.x + 1\n",
    "        print('So far', self.x)\n",
    "    \n",
    "    def __del__(self):\n",
    "        print('I am decontructed')\n",
    "\n",
    "\n",
    "an = PartyAnimal()\n",
    "an.party()\n",
    "an.party()\n",
    "an = 42"
   ]
  },
  {
   "cell_type": "code",
   "execution_count": 79,
   "metadata": {},
   "outputs": [
    {
     "name": "stdout",
     "output_type": "stream",
     "text": [
      "RUET  contructed\n",
      "KUET  contructed\n",
      "RUET party count  1\n",
      "KUET party count  1\n",
      "RUET party count  2\n"
     ]
    }
   ],
   "source": [
    "class PartyAnimal:\n",
    "    x = 0\n",
    "    name = ''\n",
    "\n",
    "    def __init__(self, name):\n",
    "        self.name = name\n",
    "        print(self.name, ' contructed')\n",
    "\n",
    "    def party(self):\n",
    "        self.x = self.x + 1\n",
    "        print(self.name, 'party count ', self.x)\n",
    "    \n",
    "s = PartyAnimal('RUET')\n",
    "j = PartyAnimal('KUET')\n",
    "\n",
    "s.party()\n",
    "j.party()\n",
    "s.party()"
   ]
  },
  {
   "cell_type": "code",
   "execution_count": 81,
   "metadata": {},
   "outputs": [
    {
     "name": "stdout",
     "output_type": "stream",
     "text": [
      "Sally  contructed\n",
      "Sally party count  1\n",
      "Jim  contructed\n",
      "Jim party count  1\n",
      "Jim party count  2\n",
      "Jim points 6\n",
      "['__class__', '__delattr__', '__dict__', '__dir__', '__doc__', '__eq__', '__format__', '__ge__', '__getattribute__', '__gt__', '__hash__', '__init__', '__init_subclass__', '__le__', '__lt__', '__module__', '__ne__', '__new__', '__reduce__', '__reduce_ex__', '__repr__', '__setattr__', '__sizeof__', '__str__', '__subclasshook__', '__weakref__', 'name', 'party', 'points', 'six', 'x']\n"
     ]
    }
   ],
   "source": [
    "from PartyAnimal import PartyAnimal\n",
    "\n",
    "class CricketFan(PartyAnimal):\n",
    "    points = 0\n",
    "\n",
    "    def six(self):\n",
    "        self.points = self.points + 6\n",
    "        self.party()\n",
    "        print(self.name, \"points\", self.points)\n",
    "\n",
    "s = PartyAnimal(\"Sally\")\n",
    "s.party()\n",
    "j = CricketFan(\"Jim\")\n",
    "j.party()\n",
    "j.six()\n",
    "print(dir(j))"
   ]
  }
 ],
 "metadata": {
  "kernelspec": {
   "display_name": "Python 3.10.6 64-bit",
   "language": "python",
   "name": "python3"
  },
  "language_info": {
   "codemirror_mode": {
    "name": "ipython",
    "version": 3
   },
   "file_extension": ".py",
   "mimetype": "text/x-python",
   "name": "python",
   "nbconvert_exporter": "python",
   "pygments_lexer": "ipython3",
   "version": "3.10.6"
  },
  "orig_nbformat": 4,
  "vscode": {
   "interpreter": {
    "hash": "98ecde74e1e341d4a306bfe032f0308df550226128f89fa64383eb8b00504ec7"
   }
  }
 },
 "nbformat": 4,
 "nbformat_minor": 2
}
